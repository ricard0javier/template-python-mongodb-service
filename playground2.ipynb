{
  "cells": [
    {
      "cell_type": "markdown",
      "metadata": {},
      "source": [
        "[![Lab Documentation and Solutions](https://img.shields.io/badge/Lab%20Documentation%20and%20Solutions-purple)](https://mongodb-developer.github.io/vector-search-lab/)\n"
      ]
    },
    {
      "cell_type": "code",
      "execution_count": 1,
      "metadata": {},
      "outputs": [],
      "source": [
        "import os\n",
        "from dotenv import load_dotenv\n",
        "from langchain.chat_models import init_chat_model\n",
        "from langgraph.prebuilt.chat_agent_executor import AgentState\n",
        "from langgraph.prebuilt import create_react_agent\n",
        "from langchain_core.messages import AnyMessage\n",
        "from langgraph.runtime import get_runtime\n",
        "from dataclasses import dataclass\n",
        "from langgraph.checkpoint.memory import InMemorySaver\n",
        "from pydantic import BaseModel\n",
        "\n",
        "\n",
        "class AgentResponse(BaseModel):\n",
        "    # ensure strict compliance with the schema\n",
        "    weather_conditions: str\n",
        "    temperature: float\n",
        "    address: str\n",
        "\n",
        "\n",
        "@dataclass\n",
        "class ContextSchema:\n",
        "    user_name: str\n",
        "\n",
        "\n",
        "# Load environment variables from .env file\n",
        "load_dotenv()\n",
        "\n",
        "\n",
        "def get_weather(city: str) -> str:\n",
        "    \"\"\"Get weather for a given city.\"\"\"\n",
        "    return f\"It's always sunny in {city}!\"\n",
        "\n",
        "\n",
        "def get_address(user: str) -> str:\n",
        "    \"\"\"Get users address\"\"\"\n",
        "    return f\"{user} lives at London, Elephant and Castle\"\n",
        "\n",
        "\n",
        "def get_products_in_store(store: str) -> str:\n",
        "    \"\"\"Get products for a given store\"\"\"\n",
        "    return (\n",
        "        f\"The store {store} has the following products: {['apple', 'banana', 'cherry']}\"\n",
        "    )\n",
        "\n",
        "\n",
        "def prompt(state: AgentState) -> list[AnyMessage]:\n",
        "    runtime = get_runtime(ContextSchema)\n",
        "    system_msg = (\n",
        "        f\"You are a helpful assistant. Address the user as {runtime.context.user_name}.\"\n",
        "    )\n",
        "    return [{\"role\": \"system\", \"content\": system_msg}] + state[\"messages\"]\n",
        "\n",
        "\n",
        "agent = create_react_agent(\n",
        "    model=init_chat_model(model=\"openai:gpt-4o-mini\"),\n",
        "    # the AI model will be queried to choose which tool to use based on the user's request\n",
        "    tools=[get_weather, get_address, get_products_in_store],\n",
        "    prompt=prompt,\n",
        "    context_schema=ContextSchema,\n",
        "    checkpointer=InMemorySaver(),\n",
        "    response_format=AgentResponse,\n",
        ")\n"
      ]
    },
    {
      "cell_type": "code",
      "execution_count": 2,
      "metadata": {},
      "outputs": [],
      "source": [
        "def callAgent(message: str, user_name: str, thread_id: str):\n",
        "    result = agent.invoke(\n",
        "        {\"messages\": [{\"role\": \"user\", \"content\": message}]},\n",
        "        context=ContextSchema(user_name=user_name),\n",
        "        config={\"thread_id\": thread_id},\n",
        "    )\n",
        "    return result[\"messages\"][-1].content"
      ]
    },
    {
      "cell_type": "code",
      "execution_count": 3,
      "metadata": {},
      "outputs": [
        {
          "data": {
            "text/plain": [
              "'The weather in San Francisco is always sunny!'"
            ]
          },
          "execution_count": 3,
          "metadata": {},
          "output_type": "execute_result"
        }
      ],
      "source": [
        "callAgent(\"what is the weather in sf?\", \"Ricardo Villanueva\", \"123\")"
      ]
    },
    {
      "cell_type": "code",
      "execution_count": 5,
      "metadata": {},
      "outputs": [
        {
          "data": {
            "text/plain": [
              "'The store in London does not have any blue products available. The available products are apple, banana, and cherry, none of which are blue.'"
            ]
          },
          "execution_count": 5,
          "metadata": {},
          "output_type": "execute_result"
        }
      ],
      "source": [
        "callAgent(\n",
        "    \"What products are in the store in London that are blue?\",\n",
        "    \"Ricardo Villanueva\",\n",
        "    \"123\",\n",
        ")"
      ]
    }
  ],
  "metadata": {
    "kernelspec": {
      "display_name": "ai-agent-with-mongodb",
      "language": "python",
      "name": "python3"
    },
    "language_info": {
      "codemirror_mode": {
        "name": "ipython",
        "version": 3
      },
      "file_extension": ".py",
      "mimetype": "text/x-python",
      "name": "python",
      "nbconvert_exporter": "python",
      "pygments_lexer": "ipython3",
      "version": "3.13.5"
    },
    "widgets": {
      "application/vnd.jupyter.widget-state+json": {
        "state": {}
      }
    }
  },
  "nbformat": 4,
  "nbformat_minor": 2
}
