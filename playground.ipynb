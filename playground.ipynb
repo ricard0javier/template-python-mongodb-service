{
  "cells": [
    {
      "cell_type": "markdown",
      "metadata": {},
      "source": [
        "[![Lab Documentation and Solutions](https://img.shields.io/badge/Lab%20Documentation%20and%20Solutions-purple)](https://mongodb-developer.github.io/vector-search-lab/)"
      ]
    },
    {
      "cell_type": "markdown",
      "metadata": {},
      "source": [
        "# Configure client"
      ]
    },
    {
      "cell_type": "code",
      "execution_count": 1,
      "metadata": {},
      "outputs": [],
      "source": [
        "from pymongo import MongoClient\n",
        "client = MongoClient(\"mongodb://mongodb1:27017,mongodb2:27018,mongodb3:27019/?replicaSet=rs0\");\n",
        "\n",
        "db = client[\"playground\"]"
      ]
    },
    {
      "cell_type": "markdown",
      "metadata": {},
      "source": [
        "# Insert data"
      ]
    },
    {
      "cell_type": "code",
      "execution_count": 6,
      "metadata": {},
      "outputs": [
        {
          "data": {
            "text/plain": [
              "InsertOneResult(ObjectId('68960e20d395b6efde90bc58'), acknowledged=True)"
            ]
          },
          "execution_count": 6,
          "metadata": {},
          "output_type": "execute_result"
        }
      ],
      "source": [
        "testCollection = db[\"test\"]\n",
        "testCollection.insert_one({\n",
        "    \"name\": \"John\",\n",
        "    \"age\": 30\n",
        "})"
      ]
    },
    {
      "cell_type": "markdown",
      "metadata": {},
      "source": [
        "# Retrieve Data"
      ]
    },
    {
      "cell_type": "code",
      "execution_count": 10,
      "metadata": {},
      "outputs": [
        {
          "data": {
            "text/plain": [
              "[{'_id': ObjectId('68960e07d395b6efde90bc57'), 'name': 'John', 'age': 30},\n",
              " {'_id': ObjectId('68960e20d395b6efde90bc58'), 'name': 'John', 'age': 30}]"
            ]
          },
          "execution_count": 10,
          "metadata": {},
          "output_type": "execute_result"
        }
      ],
      "source": [
        "cursor = testCollection.find({\n",
        "  \"name\": \"John\"\n",
        "})\n",
        "list(cursor)"
      ]
    }
  ],
  "metadata": {
    "kernelspec": {
      "display_name": "template-python-mongodb-service",
      "language": "python",
      "name": "python3"
    },
    "language_info": {
      "codemirror_mode": {
        "name": "ipython",
        "version": 3
      },
      "file_extension": ".py",
      "mimetype": "text/x-python",
      "name": "python",
      "nbconvert_exporter": "python",
      "pygments_lexer": "ipython3",
      "version": "3.11.13"
    },
    "widgets": {
      "application/vnd.jupyter.widget-state+json": {
        "state": {}
      }
    }
  },
  "nbformat": 4,
  "nbformat_minor": 2
}
