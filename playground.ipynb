{
  "cells": [
    {
      "cell_type": "markdown",
      "metadata": {},
      "source": [
        "[![Lab Documentation and Solutions](https://img.shields.io/badge/Lab%20Documentation%20and%20Solutions-purple)](https://mongodb-developer.github.io/vector-search-lab/)"
      ]
    },
    {
      "cell_type": "code",
      "execution_count": null,
      "metadata": {},
      "outputs": [],
      "source": [
        "import os\n",
        "from dotenv import load_dotenv\n",
        "from langchain.chat_models import init_chat_model\n",
        "from langgraph.prebuilt.chat_agent_executor import AgentState\n",
        "from langgraph.prebuilt import create_react_agent\n",
        "from langchain_core.messages import AnyMessage\n",
        "from langgraph.runtime import get_runtime\n",
        "from dataclasses import dataclass\n",
        "from langgraph.checkpoint.memory import InMemorySaver\n",
        "from pydantic import BaseModel\n",
        "from langgraph.checkpoint.mongodb import MongoDBSaver\n",
        "\n",
        "from src.persistence.mongodb import get_client\n",
        "\n",
        "class AgentResponse(BaseModel):\n",
        "    weather_conditions: str\n",
        "    temperature: float\n",
        "    address: str\n",
        "\n",
        "@dataclass\n",
        "class ContextSchema:\n",
        "    user_name: str\n",
        "\n",
        "# Load environment variables from .env file\n",
        "load_dotenv()\n",
        "\n",
        "def get_weather(city: str) -> str:\n",
        "    \"\"\"Get weather for a given city.\"\"\"\n",
        "    return f\"It's always sunny in {city}!\"\n",
        "\n",
        "def get_address(user: str) -> str:\n",
        "    \"\"\"Get users address\"\"\"\n",
        "    return f\"{user} lives at London, Elephant and Castle\"\n",
        "\n",
        "def prompt(state: AgentState) -> list[AnyMessage]:\n",
        "    runtime = get_runtime(ContextSchema)\n",
        "    system_msg = f\"You are a helpful assistant. Address the user as {runtime.context.user_name}.\"\n",
        "    return [{\"role\": \"system\", \"content\": system_msg}] + state[\"messages\"]\n",
        "\n",
        "agent = create_react_agent(\n",
        "    model=init_chat_model(\n",
        "        # model=\"openai:gpt-5\",\n",
        "        model=\"openai:gpt-4o-mini\",\n",
        "        # api_key=os.getenv(\"OPENAI_API_KEY\"),\n",
        "        temperature=0.0,\n",
        "        # max_tokens=1000,\n",
        "    ),\n",
        "    # the AI model will be queried to choose which tool to use based on the user's request\n",
        "    tools=[get_weather, get_address],\n",
        "    \n",
        "    prompt=prompt,\n",
        "    context_schema=ContextSchema,\n",
        "    \n",
        "    # the agent will save its state in memory\n",
        "    checkpointer=InMemorySaver(),\n",
        "    # checkpointer=MongoDBSaver(\n",
        "    #     client=get_client().client,\n",
        "    #     checkpointCollectionName=\"agent_state\",\n",
        "    #     db_name=\"playground\"\n",
        "    # ),\n",
        "    \n",
        "    # Structured output requires an additional call to the LLM to format the response according to the schema.\n",
        "    response_format=AgentResponse  \n",
        ")\n"
      ]
    },
    {
      "cell_type": "code",
      "execution_count": null,
      "metadata": {},
      "outputs": [],
      "source": [
        "# Run the agent\n",
        "agent.invoke(\n",
        "    {\"messages\": [{\"role\": \"user\", \"content\": \"what is the weather in sf?\"}]},\n",
        "    context=ContextSchema(user_name=\"Ricardo Villanueva\"),\n",
        "    config={\"thread_id\": \"123\"}\n",
        ")"
      ]
    },
    {
      "cell_type": "code",
      "execution_count": null,
      "metadata": {},
      "outputs": [],
      "source": [
        "# Run the agent\n",
        "agent.invoke(\n",
        "    {\"messages\": [{\"role\": \"user\", \"content\": \"Where does she live?\"}]},\n",
        "    context=ContextSchema(user_name=\"Ricardo Villanueva\"),\n",
        "    config={\"thread_id\": \"123\"}\n",
        ")"
      ]
    },
    {
      "cell_type": "code",
      "execution_count": null,
      "metadata": {},
      "outputs": [],
      "source": [
        "# Run the agent\n",
        "agent.invoke(\n",
        "    {\"messages\": [{\"role\": \"user\", \"content\": \"Where does she live, and is it raining there?\"}]},\n",
        "    context=ContextSchema(user_name=\"Ricardo Villanueva\"),\n",
        "    config={\"thread_id\": \"123\"}\n",
        ")"
      ]
    },
    {
      "cell_type": "code",
      "execution_count": null,
      "metadata": {},
      "outputs": [],
      "source": [
        "# Run the agent\n",
        "agent.invoke(\n",
        "    {\"messages\": [{\"role\": \"user\", \"content\": \"What did I say?\"}]},\n",
        "    context=ContextSchema(user_name=\"Ricardo Villanueva\"),\n",
        "    config={\"thread_id\": \"123\"}\n",
        ")"
      ]
    }
  ],
  "metadata": {
    "kernelspec": {
      "display_name": "ai-agent-with-mongodb",
      "language": "python",
      "name": "python3"
    },
    "language_info": {
      "codemirror_mode": {
        "name": "ipython",
        "version": 3
      },
      "file_extension": ".py",
      "mimetype": "text/x-python",
      "name": "python",
      "nbconvert_exporter": "python",
      "pygments_lexer": "ipython3",
      "version": "3.11.13"
    },
    "widgets": {
      "application/vnd.jupyter.widget-state+json": {
        "state": {}
      }
    }
  },
  "nbformat": 4,
  "nbformat_minor": 2
}
