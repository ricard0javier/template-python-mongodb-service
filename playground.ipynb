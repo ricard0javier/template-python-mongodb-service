{
  "cells": [
    {
      "cell_type": "markdown",
      "metadata": {},
      "source": [
        "[![Lab Documentation and Solutions](https://img.shields.io/badge/Lab%20Documentation%20and%20Solutions-purple)](https://mongodb-developer.github.io/vector-search-lab/)\n"
      ]
    },
    {
      "cell_type": "code",
      "execution_count": null,
      "metadata": {},
      "outputs": [],
      "source": [
        "import os\n",
        "from dotenv import load_dotenv\n",
        "from langchain.chat_models import init_chat_model\n",
        "from langgraph.prebuilt.chat_agent_executor import AgentState\n",
        "from langgraph.prebuilt import create_react_agent\n",
        "from langchain_core.messages import AnyMessage\n",
        "from langgraph.runtime import get_runtime\n",
        "from dataclasses import dataclass\n",
        "from langgraph.checkpoint.memory import InMemorySaver\n",
        "from pydantic import BaseModel\n",
        "\n",
        "\n",
        "class AgentResponse(BaseModel):\n",
        "    # ensure strict compliance with the schema\n",
        "    weather_conditions: str\n",
        "    temperature: float\n",
        "    address: str\n",
        "\n",
        "\n",
        "@dataclass\n",
        "class ContextSchema:\n",
        "    user_name: str\n",
        "\n",
        "\n",
        "# Load environment variables from .env file\n",
        "load_dotenv()\n",
        "\n",
        "\n",
        "def get_weather(city: str) -> str:\n",
        "    \"\"\"Get weather for a given city.\"\"\"\n",
        "    return f\"It's always sunny in {city}!\"\n",
        "\n",
        "\n",
        "def get_address(user: str) -> str:\n",
        "    \"\"\"Get users address\"\"\"\n",
        "    return f\"{user} lives at London, Elephant and Castle\"\n",
        "\n",
        "\n",
        "def prompt(state: AgentState) -> list[AnyMessage]:\n",
        "    runtime = get_runtime(ContextSchema)\n",
        "    system_msg = (\n",
        "        f\"You are a helpful assistant. Address the user as {runtime.context.user_name}.\"\n",
        "    )\n",
        "    return [{\"role\": \"system\", \"content\": system_msg}] + state[\"messages\"]\n",
        "\n",
        "\n",
        "agent = create_react_agent(\n",
        "    model=init_chat_model(\n",
        "        # model=\"openai:gpt-5\",\n",
        "        model=\"openai:gpt-4o-mini\",\n",
        "        # api_key=os.getenv(\"OPENAI_API_KEY\"),\n",
        "        temperature=0.0,\n",
        "        # max_tokens=1000,\n",
        "    ),\n",
        "    # the AI model will be queried to choose which tool to use based on the user's request\n",
        "    tools=[get_weather, get_address],\n",
        "    prompt=prompt,\n",
        "    context_schema=ContextSchema,\n",
        "    # the agent will save its state in memory\n",
        "    checkpointer=InMemorySaver(),\n",
        "    # checkpointer=MongoDBSaver(\n",
        "    #     client=get_client().client,\n",
        "    #     checkpointCollectionName=\"agent_state\",\n",
        "    #     db_name=\"playground\"\n",
        "    # ),\n",
        "    # Structured output requires an additional call to the LLM to format the response according to the schema.\n",
        "    response_format=AgentResponse,\n",
        ")\n"
      ]
    },
    {
      "cell_type": "code",
      "execution_count": null,
      "metadata": {},
      "outputs": [],
      "source": [
        "# Run the agent\n",
        "agent.invoke(\n",
        "    {\"messages\": [{\"role\": \"user\", \"content\": \"what is the weather in sf?\"}]},\n",
        "    context=ContextSchema(user_name=\"Ricardo Villanueva\"),\n",
        "    config={\"thread_id\": \"123\"},\n",
        ")"
      ]
    },
    {
      "cell_type": "code",
      "execution_count": null,
      "metadata": {},
      "outputs": [],
      "source": [
        "# Run the agent\n",
        "agent.invoke(\n",
        "    {\"messages\": [{\"role\": \"user\", \"content\": \"Where does she live?\"}]},\n",
        "    context=ContextSchema(user_name=\"Ricardo Villanueva\"),\n",
        "    config={\"thread_id\": \"123\"},\n",
        ")"
      ]
    },
    {
      "cell_type": "code",
      "execution_count": null,
      "metadata": {},
      "outputs": [],
      "source": [
        "# Run the agent\n",
        "agent.invoke(\n",
        "    {\n",
        "        \"messages\": [\n",
        "            {\"role\": \"user\", \"content\": \"Where does she live, and is it raining there?\"}\n",
        "        ]\n",
        "    },\n",
        "    context=ContextSchema(user_name=\"Ricardo Villanueva\"),\n",
        "    config={\"thread_id\": \"123\"},\n",
        ")"
      ]
    },
    {
      "cell_type": "code",
      "execution_count": null,
      "metadata": {},
      "outputs": [],
      "source": [
        "# Run the agent\n",
        "agent.invoke(\n",
        "    {\"messages\": [{\"role\": \"user\", \"content\": \"What did I say?\"}]},\n",
        "    context=ContextSchema(user_name=\"Ricardo Villanueva\"),\n",
        "    config={\"thread_id\": \"123\"},\n",
        ")"
      ]
    },
    {
      "cell_type": "code",
      "execution_count": null,
      "metadata": {},
      "outputs": [],
      "source": [
        "from src.examples.agent_with_mongodb_memory import invoke_agent\n",
        "\n",
        "invoke_agent(\"What is the weather in London?\", \"John\", \"123\")"
      ]
    },
    {
      "cell_type": "code",
      "execution_count": null,
      "metadata": {},
      "outputs": [
        {
          "name": "stderr",
          "output_type": "stream",
          "text": [
            "/Users/ricardo.villanueva/miniconda3/envs/ai-agent-with-mongodb/lib/python3.13/site-packages/pymongo/common.py:844: UserWarning: Wire protocol compression with snappy is not available. You must install the python-snappy module for snappy support.\n",
            "  value = validator(option, value)\n"
          ]
        },
        {
          "data": {
            "text/plain": [
              "{'messages': [HumanMessage(content='What is the weather in London?', additional_kwargs={}, response_metadata={}, id='343305b2-94a3-4eaf-958a-04c5502858f6'),\n",
              "  AIMessage(content='', additional_kwargs={'tool_calls': [{'id': 'call_w0M2DaVCXRGIqdR6xFtN5nPP', 'function': {'arguments': '{\"city\":\"London\",\"user\":\"John\",\"context\":{\"user_name\":\"John\"}}', 'name': 'get_weather'}, 'type': 'function'}], 'refusal': None}, response_metadata={'token_usage': {'completion_tokens': 162, 'prompt_tokens': 178, 'total_tokens': 340, 'completion_tokens_details': {'accepted_prediction_tokens': 0, 'audio_tokens': 0, 'reasoning_tokens': 128, 'rejected_prediction_tokens': 0}, 'prompt_tokens_details': {'audio_tokens': 0, 'cached_tokens': 0}}, 'model_name': 'gpt-5-mini-2025-08-07', 'system_fingerprint': None, 'id': 'chatcmpl-C3RkK0mIjOcfucuN9NMJll1YeszfD', 'service_tier': 'default', 'finish_reason': 'tool_calls', 'logprobs': None}, id='run--01154e9c-576c-439d-93fc-5b55f8af1b7f-0', tool_calls=[{'name': 'get_weather', 'args': {'city': 'London', 'user': 'John', 'context': {'user_name': 'John'}}, 'id': 'call_w0M2DaVCXRGIqdR6xFtN5nPP', 'type': 'tool_call'}], usage_metadata={'input_tokens': 178, 'output_tokens': 162, 'total_tokens': 340, 'input_token_details': {'audio': 0, 'cache_read': 0}, 'output_token_details': {'audio': 0, 'reasoning': 128}}),\n",
              "  ToolMessage(content=\"It's always sunny in London!\", name='get_weather', id='52c443b7-6c25-44a5-b213-9fb2b46361de', tool_call_id='call_w0M2DaVCXRGIqdR6xFtN5nPP'),\n",
              "  AIMessage(content=\"John, it's always sunny in London!\", additional_kwargs={'refusal': None}, response_metadata={'token_usage': {'completion_tokens': 11, 'prompt_tokens': 223, 'total_tokens': 234, 'completion_tokens_details': {'accepted_prediction_tokens': 0, 'audio_tokens': 0, 'reasoning_tokens': 0, 'rejected_prediction_tokens': 0}, 'prompt_tokens_details': {'audio_tokens': 0, 'cached_tokens': 0}}, 'model_name': 'gpt-5-mini-2025-08-07', 'system_fingerprint': None, 'id': 'chatcmpl-C3RkXmYr1V1qADZSgnR3posTlUtLv', 'service_tier': 'default', 'finish_reason': 'stop', 'logprobs': None}, id='run--88f220c3-b76e-4dd6-acb4-4baea543ff9c-0', usage_metadata={'input_tokens': 223, 'output_tokens': 11, 'total_tokens': 234, 'input_token_details': {'audio': 0, 'cache_read': 0}, 'output_token_details': {'audio': 0, 'reasoning': 0}}),\n",
              "  HumanMessage(content='What is the weather in London?', additional_kwargs={}, response_metadata={}, id='355757c2-ed1b-4ac8-b8bd-775aec2ed8a5'),\n",
              "  AIMessage(content='', additional_kwargs={'tool_calls': [{'id': 'call_xxlHcDV6xzMJ3ip2Woor0ZKy', 'function': {'arguments': '{\"city\":\"London\",\"user\":\"John\",\"context\":{\"user_name\":\"John\"}}', 'name': 'get_weather'}, 'type': 'function'}], 'refusal': None}, response_metadata={'token_usage': {'completion_tokens': 98, 'prompt_tokens': 248, 'total_tokens': 346, 'completion_tokens_details': {'accepted_prediction_tokens': 0, 'audio_tokens': 0, 'reasoning_tokens': 64, 'rejected_prediction_tokens': 0}, 'prompt_tokens_details': {'audio_tokens': 0, 'cached_tokens': 0}}, 'model_name': 'gpt-5-mini-2025-08-07', 'system_fingerprint': None, 'id': 'chatcmpl-C3RlNOoO8AQSjHZRDiocpSZzsKXcC', 'service_tier': 'default', 'finish_reason': 'tool_calls', 'logprobs': None}, id='run--0759eac0-9332-40ba-a0a6-dfa4e60a04fe-0', tool_calls=[{'name': 'get_weather', 'args': {'city': 'London', 'user': 'John', 'context': {'user_name': 'John'}}, 'id': 'call_xxlHcDV6xzMJ3ip2Woor0ZKy', 'type': 'tool_call'}], usage_metadata={'input_tokens': 248, 'output_tokens': 98, 'total_tokens': 346, 'input_token_details': {'audio': 0, 'cache_read': 0}, 'output_token_details': {'audio': 0, 'reasoning': 64}}),\n",
              "  ToolMessage(content=\"It's always sunny in London!\", name='get_weather', id='6481f64c-3860-4041-919c-4310030f5659', tool_call_id='call_xxlHcDV6xzMJ3ip2Woor0ZKy'),\n",
              "  AIMessage(content=\"John, it's always sunny in London! Would you like the real-time current conditions (temperature, precipitation, wind) instead?\", additional_kwargs={'refusal': None}, response_metadata={'token_usage': {'completion_tokens': 162, 'prompt_tokens': 293, 'total_tokens': 455, 'completion_tokens_details': {'accepted_prediction_tokens': 0, 'audio_tokens': 0, 'reasoning_tokens': 128, 'rejected_prediction_tokens': 0}, 'prompt_tokens_details': {'audio_tokens': 0, 'cached_tokens': 0}}, 'model_name': 'gpt-5-mini-2025-08-07', 'system_fingerprint': None, 'id': 'chatcmpl-C3RlQ0xgkljhO495myO8ElNGo8t6R', 'service_tier': 'default', 'finish_reason': 'stop', 'logprobs': None}, id='run--c259b5ca-3cd1-42f3-8ca0-e5ba10b47f9b-0', usage_metadata={'input_tokens': 293, 'output_tokens': 162, 'total_tokens': 455, 'input_token_details': {'audio': 0, 'cache_read': 0}, 'output_token_details': {'audio': 0, 'reasoning': 128}}),\n",
              "  HumanMessage(content='What is the weather in London?', additional_kwargs={}, response_metadata={}, id='17c0980d-2dc1-4006-8084-285ff9cef589'),\n",
              "  AIMessage(content=\"John, it's always sunny in London! Would you like real-time current conditions (temperature, precipitation, wind) or a forecast instead?\", additional_kwargs={'refusal': None}, response_metadata={'token_usage': {'completion_tokens': 484, 'prompt_tokens': 335, 'total_tokens': 819, 'completion_tokens_details': {'accepted_prediction_tokens': 0, 'audio_tokens': 0, 'reasoning_tokens': 448, 'rejected_prediction_tokens': 0}, 'prompt_tokens_details': {'audio_tokens': 0, 'cached_tokens': 0}}, 'model_name': 'gpt-5-mini-2025-08-07', 'system_fingerprint': None, 'id': 'chatcmpl-C3RleDAhUn01IE1Mu06py7Hucl4nq', 'service_tier': 'default', 'finish_reason': 'stop', 'logprobs': None}, id='run--d8980a21-92be-4ad4-b162-d15c59efd99f-0', usage_metadata={'input_tokens': 335, 'output_tokens': 484, 'total_tokens': 819, 'input_token_details': {'audio': 0, 'cache_read': 0}, 'output_token_details': {'audio': 0, 'reasoning': 448}}),\n",
              "  HumanMessage(content='What is the weather in Lisbon?', additional_kwargs={}, response_metadata={}, id='9681b926-ae6a-4214-94f7-5d1b0454b907'),\n",
              "  AIMessage(content='', additional_kwargs={'tool_calls': [{'id': 'call_LeTA9XZ6x3yGAjQF5MllJdpL', 'function': {'arguments': '{\"city\":\"Lisbon\",\"user\":\"John\",\"context\":{\"user_name\":\"John\"}}', 'name': 'get_weather'}, 'type': 'function'}], 'refusal': None}, response_metadata={'token_usage': {'completion_tokens': 99, 'prompt_tokens': 379, 'total_tokens': 478, 'completion_tokens_details': {'accepted_prediction_tokens': 0, 'audio_tokens': 0, 'reasoning_tokens': 64, 'rejected_prediction_tokens': 0}, 'prompt_tokens_details': {'audio_tokens': 0, 'cached_tokens': 0}}, 'model_name': 'gpt-5-mini-2025-08-07', 'system_fingerprint': None, 'id': 'chatcmpl-C3Rlx0oPAsHlUJGNaDKlDDMVUQSsS', 'service_tier': 'default', 'finish_reason': 'tool_calls', 'logprobs': None}, id='run--ffbe282a-80f4-4eb0-af14-c9f7084b72c3-0', tool_calls=[{'name': 'get_weather', 'args': {'city': 'Lisbon', 'user': 'John', 'context': {'user_name': 'John'}}, 'id': 'call_LeTA9XZ6x3yGAjQF5MllJdpL', 'type': 'tool_call'}], usage_metadata={'input_tokens': 379, 'output_tokens': 99, 'total_tokens': 478, 'input_token_details': {'audio': 0, 'cache_read': 0}, 'output_token_details': {'audio': 0, 'reasoning': 64}}),\n",
              "  ToolMessage(content=\"It's always sunny in Lisbon!\", name='get_weather', id='b7dfe0c0-f142-470d-b58d-ad4b9fec589d', tool_call_id='call_LeTA9XZ6x3yGAjQF5MllJdpL'),\n",
              "  AIMessage(content=\"John, it's always sunny in Lisbon!\", additional_kwargs={'refusal': None}, response_metadata={'token_usage': {'completion_tokens': 11, 'prompt_tokens': 425, 'total_tokens': 436, 'completion_tokens_details': {'accepted_prediction_tokens': 0, 'audio_tokens': 0, 'reasoning_tokens': 0, 'rejected_prediction_tokens': 0}, 'prompt_tokens_details': {'audio_tokens': 0, 'cached_tokens': 0}}, 'model_name': 'gpt-5-mini-2025-08-07', 'system_fingerprint': None, 'id': 'chatcmpl-C3Rm2jWXWf6Zzv7MithyiIIXQHK3M', 'service_tier': 'default', 'finish_reason': 'stop', 'logprobs': None}, id='run--ab3a35e4-8cf9-4578-9c29-fba8883f5f16-0', usage_metadata={'input_tokens': 425, 'output_tokens': 11, 'total_tokens': 436, 'input_token_details': {'audio': 0, 'cache_read': 0}, 'output_token_details': {'audio': 0, 'reasoning': 0}}),\n",
              "  HumanMessage(content='What is the weather in Lisbon?', additional_kwargs={}, response_metadata={}, id='ca4bbec3-ac00-4adf-84e9-159386470dac'),\n",
              "  AIMessage(content=\"John, it's always sunny in Lisbon! Would you like real-time current conditions (temperature, precipitation, wind) or a forecast instead?\", additional_kwargs={'refusal': None}, response_metadata={'token_usage': {'completion_tokens': 228, 'prompt_tokens': 450, 'total_tokens': 678, 'completion_tokens_details': {'accepted_prediction_tokens': 0, 'audio_tokens': 0, 'reasoning_tokens': 192, 'rejected_prediction_tokens': 0}, 'prompt_tokens_details': {'audio_tokens': 0, 'cached_tokens': 0}}, 'model_name': 'gpt-5-mini-2025-08-07', 'system_fingerprint': None, 'id': 'chatcmpl-C3RmFZqmd1SLV92KApOUvPs4OkAQX', 'service_tier': 'default', 'finish_reason': 'stop', 'logprobs': None}, id='run--a5cd13a9-1652-4ae1-8f52-924deafc2e91-0', usage_metadata={'input_tokens': 450, 'output_tokens': 228, 'total_tokens': 678, 'input_token_details': {'audio': 0, 'cache_read': 0}, 'output_token_details': {'audio': 0, 'reasoning': 192}}),\n",
              "  HumanMessage(content='What is the weather in Lisbon?', additional_kwargs={}, response_metadata={}, id='8feb1961-3b04-4c69-986c-7fbba05e27e3'),\n",
              "  AIMessage(content='', additional_kwargs={'tool_calls': [{'id': 'call_6gycJhSU4q8CwJFfbhkBP20O', 'function': {'arguments': '{\"city\":\"Lisbon\",\"user\":\"John\",\"context\":{\"user_name\":\"John\"}}', 'name': 'get_weather'}, 'type': 'function'}], 'refusal': None}, response_metadata={'token_usage': {'completion_tokens': 291, 'prompt_tokens': 494, 'total_tokens': 785, 'completion_tokens_details': {'accepted_prediction_tokens': 0, 'audio_tokens': 0, 'reasoning_tokens': 256, 'rejected_prediction_tokens': 0}, 'prompt_tokens_details': {'audio_tokens': 0, 'cached_tokens': 0}}, 'model_name': 'gpt-5-mini-2025-08-07', 'system_fingerprint': None, 'id': 'chatcmpl-C3RnItkz7sTXN5Uwvk1lACme30ZaO', 'service_tier': 'default', 'finish_reason': 'tool_calls', 'logprobs': None}, id='run--dbdbb6c4-6496-457c-994a-f52bdac4d043-0', tool_calls=[{'name': 'get_weather', 'args': {'city': 'Lisbon', 'user': 'John', 'context': {'user_name': 'John'}}, 'id': 'call_6gycJhSU4q8CwJFfbhkBP20O', 'type': 'tool_call'}], usage_metadata={'input_tokens': 494, 'output_tokens': 291, 'total_tokens': 785, 'input_token_details': {'audio': 0, 'cache_read': 0}, 'output_token_details': {'audio': 0, 'reasoning': 256}}),\n",
              "  ToolMessage(content=\"It's always sunny in Lisbon!\", name='get_weather', id='cebff40a-77fe-47de-b6c0-b55b3eb9be45', tool_call_id='call_6gycJhSU4q8CwJFfbhkBP20O'),\n",
              "  AIMessage(content=\"John, it's always sunny in Lisbon!\", additional_kwargs={'refusal': None}, response_metadata={'token_usage': {'completion_tokens': 11, 'prompt_tokens': 540, 'total_tokens': 551, 'completion_tokens_details': {'accepted_prediction_tokens': 0, 'audio_tokens': 0, 'reasoning_tokens': 0, 'rejected_prediction_tokens': 0}, 'prompt_tokens_details': {'audio_tokens': 0, 'cached_tokens': 0}}, 'model_name': 'gpt-5-mini-2025-08-07', 'system_fingerprint': None, 'id': 'chatcmpl-C3RnQbyrwPAvJhz4ehlCfjuqeFJ2C', 'service_tier': 'default', 'finish_reason': 'stop', 'logprobs': None}, id='run--c79e903c-2ee8-49c4-b447-25227d09918e-0', usage_metadata={'input_tokens': 540, 'output_tokens': 11, 'total_tokens': 551, 'input_token_details': {'audio': 0, 'cache_read': 0}, 'output_token_details': {'audio': 0, 'reasoning': 0}}),\n",
              "  HumanMessage(content='What is the weather in Lisbon?', additional_kwargs={}, response_metadata={}, id='1467ff14-e328-4c44-830a-175b9e265f28'),\n",
              "  AIMessage(content=\"John, it's always sunny in Lisbon! Would you like real-time current conditions (temperature, precipitation, wind) or a forecast?\", additional_kwargs={'refusal': None}, response_metadata={'token_usage': {'completion_tokens': 99, 'prompt_tokens': 565, 'total_tokens': 664, 'completion_tokens_details': {'accepted_prediction_tokens': 0, 'audio_tokens': 0, 'reasoning_tokens': 64, 'rejected_prediction_tokens': 0}, 'prompt_tokens_details': {'audio_tokens': 0, 'cached_tokens': 0}}, 'model_name': 'gpt-5-mini-2025-08-07', 'system_fingerprint': None, 'id': 'chatcmpl-C3Rnq1Uc3oi3HrFChS3QwMFazcGlS', 'service_tier': 'default', 'finish_reason': 'stop', 'logprobs': None}, id='run--752bb2bb-5eee-4f7b-a56d-c01217224715-0', usage_metadata={'input_tokens': 565, 'output_tokens': 99, 'total_tokens': 664, 'input_token_details': {'audio': 0, 'cache_read': 0}, 'output_token_details': {'audio': 0, 'reasoning': 64}}),\n",
              "  HumanMessage(content='What is the weather in Lisbon?', additional_kwargs={}, response_metadata={}, id='fb8337f1-23ea-45a6-be4b-764c2d1d2fd5'),\n",
              "  AIMessage(content='John — do you mean Lisbon, Portugal? Would you like the current conditions right now or a multi-day forecast? I can fetch live data for you.', additional_kwargs={'refusal': None}, response_metadata={'token_usage': {'completion_tokens': 296, 'prompt_tokens': 608, 'total_tokens': 904, 'completion_tokens_details': {'accepted_prediction_tokens': 0, 'audio_tokens': 0, 'reasoning_tokens': 256, 'rejected_prediction_tokens': 0}, 'prompt_tokens_details': {'audio_tokens': 0, 'cached_tokens': 0}}, 'model_name': 'gpt-5-mini-2025-08-07', 'system_fingerprint': None, 'id': 'chatcmpl-C3RoDdSkO2vOGO6Vn9VVVRRek5h4k', 'service_tier': 'default', 'finish_reason': 'stop', 'logprobs': None}, id='run--35e5a041-4cde-4308-9555-94d6120e8694-0', usage_metadata={'input_tokens': 608, 'output_tokens': 296, 'total_tokens': 904, 'input_token_details': {'audio': 0, 'cache_read': 0}, 'output_token_details': {'audio': 0, 'reasoning': 256}})],\n",
              " 'structured_response': AgentResponse(weather_conditions=\"Do you mean Lisbon, Portugal? I don't have current conditions yet — would you like me to fetch real-time current conditions or a multi-day forecast?\", temperature=0.0, address='Lisbon, Portugal')}"
            ]
          },
          "execution_count": 1,
          "metadata": {},
          "output_type": "execute_result"
        }
      ],
      "source": [
        "from src.examples.agent_with_mongodb_memory import invoke_agent\n",
        "\n",
        "invoke_agent(\"What is the weather in Lisbon?\", \"John\", \"123\")"
      ]
    }
  ],
  "metadata": {
    "kernelspec": {
      "display_name": "ai-agent-with-mongodb",
      "language": "python",
      "name": "python3"
    },
    "language_info": {
      "codemirror_mode": {
        "name": "ipython",
        "version": 3
      },
      "file_extension": ".py",
      "mimetype": "text/x-python",
      "name": "python",
      "nbconvert_exporter": "python",
      "pygments_lexer": "ipython3",
      "version": "3.13.5"
    },
    "widgets": {
      "application/vnd.jupyter.widget-state+json": {
        "state": {}
      }
    }
  },
  "nbformat": 4,
  "nbformat_minor": 2
}
