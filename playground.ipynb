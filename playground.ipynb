{
  "cells": [
    {
      "cell_type": "markdown",
      "metadata": {},
      "source": [
        "[![Lab Documentation and Solutions](https://img.shields.io/badge/Lab%20Documentation%20and%20Solutions-purple)](https://mongodb-developer.github.io/vector-search-lab/)"
      ]
    },
    {
      "cell_type": "code",
      "execution_count": 4,
      "metadata": {},
      "outputs": [],
      "source": [
        "import os\n",
        "from dotenv import load_dotenv\n",
        "from langchain.chat_models import init_chat_model\n",
        "from langgraph.prebuilt.chat_agent_executor import AgentState\n",
        "from langgraph.prebuilt import create_react_agent\n",
        "from langchain_core.messages import AnyMessage\n",
        "from langgraph.runtime import get_runtime\n",
        "from dataclasses import dataclass\n",
        "from langgraph.checkpoint.memory import InMemorySaver\n",
        "from pydantic import BaseModel\n",
        "\n",
        "class AgentResponse(BaseModel):\n",
        "    # ensure strict compliance with the schema\n",
        "    weather_conditions: str\n",
        "    temperature: float\n",
        "    address: str\n",
        "\n",
        "@dataclass\n",
        "class ContextSchema:\n",
        "    user_name: str\n",
        "\n",
        "# Load environment variables from .env file\n",
        "load_dotenv()\n",
        "\n",
        "def get_weather(city: str) -> str:\n",
        "    \"\"\"Get weather for a given city.\"\"\"\n",
        "    return f\"It's always sunny in {city}!\"\n",
        "\n",
        "def get_address(user: str) -> str:\n",
        "    \"\"\"Get users address\"\"\"\n",
        "    return f\"{user} lives at London, Elephant and Castle\"\n",
        "\n",
        "def prompt(state: AgentState) -> list[AnyMessage]:\n",
        "    runtime = get_runtime(ContextSchema)\n",
        "    system_msg = f\"You are a helpful assistant. Address the user as {runtime.context.user_name}.\"\n",
        "    return [{\"role\": \"system\", \"content\": system_msg}] + state[\"messages\"]\n",
        "\n",
        "agent = create_react_agent(\n",
        "    model=init_chat_model(\n",
        "        # model=\"openai:gpt-5\",\n",
        "        model=\"openai:gpt-4o-mini\",\n",
        "        # api_key=os.getenv(\"OPENAI_API_KEY\"),\n",
        "        temperature=0.0,\n",
        "        # max_tokens=1000,\n",
        "    ),\n",
        "    # the AI model will be queried to choose which tool to use based on the user's request\n",
        "    tools=[get_weather, get_address],\n",
        "    \n",
        "    prompt=prompt,\n",
        "    context_schema=ContextSchema,\n",
        "    \n",
        "    # the agent will save its state in memory\n",
        "    checkpointer=InMemorySaver(),\n",
        "    # checkpointer=MongoDBSaver(\n",
        "    #     client=get_client().client,\n",
        "    #     checkpointCollectionName=\"agent_state\",\n",
        "    #     db_name=\"playground\"\n",
        "    # ),\n",
        "    \n",
        "    # Structured output requires an additional call to the LLM to format the response according to the schema.\n",
        "    response_format=AgentResponse  \n",
        ")\n"
      ]
    },
    {
      "cell_type": "code",
      "execution_count": 5,
      "metadata": {},
      "outputs": [
        {
          "data": {
            "text/plain": [
              "{'messages': [HumanMessage(content='what is the weather in sf?', additional_kwargs={}, response_metadata={}, id='7ae74b78-c08a-47f6-9e25-5a82609f5638'),\n",
              "  AIMessage(content='', additional_kwargs={'tool_calls': [{'id': 'call_OURNIpc9nVzTfQxrwkYLaMHQ', 'function': {'arguments': '{\"city\":\"San Francisco\"}', 'name': 'get_weather'}, 'type': 'function'}], 'refusal': None}, response_metadata={'token_usage': {'completion_tokens': 15, 'prompt_tokens': 84, 'total_tokens': 99, 'completion_tokens_details': {'accepted_prediction_tokens': 0, 'audio_tokens': 0, 'reasoning_tokens': 0, 'rejected_prediction_tokens': 0}, 'prompt_tokens_details': {'audio_tokens': 0, 'cached_tokens': 0}}, 'model_name': 'gpt-4o-mini-2024-07-18', 'system_fingerprint': 'fp_34a54ae93c', 'id': 'chatcmpl-C3QWGAgBEJChGksb1oW8PtFHAdGME', 'service_tier': 'default', 'finish_reason': 'tool_calls', 'logprobs': None}, id='run--93b3cdf7-fd1b-4399-aa4e-5e2e14ce215c-0', tool_calls=[{'name': 'get_weather', 'args': {'city': 'San Francisco'}, 'id': 'call_OURNIpc9nVzTfQxrwkYLaMHQ', 'type': 'tool_call'}], usage_metadata={'input_tokens': 84, 'output_tokens': 15, 'total_tokens': 99, 'input_token_details': {'audio': 0, 'cache_read': 0}, 'output_token_details': {'audio': 0, 'reasoning': 0}}),\n",
              "  ToolMessage(content=\"It's always sunny in San Francisco!\", name='get_weather', id='f20cc849-e714-446c-9e1a-15868dd52fab', tool_call_id='call_OURNIpc9nVzTfQxrwkYLaMHQ'),\n",
              "  AIMessage(content='The weather in San Francisco is always sunny! If you need more specific details, feel free to ask.', additional_kwargs={'refusal': None}, response_metadata={'token_usage': {'completion_tokens': 22, 'prompt_tokens': 114, 'total_tokens': 136, 'completion_tokens_details': {'accepted_prediction_tokens': 0, 'audio_tokens': 0, 'reasoning_tokens': 0, 'rejected_prediction_tokens': 0}, 'prompt_tokens_details': {'audio_tokens': 0, 'cached_tokens': 0}}, 'model_name': 'gpt-4o-mini-2024-07-18', 'system_fingerprint': 'fp_34a54ae93c', 'id': 'chatcmpl-C3QWHdXbgJ6rhigdehPeXWfQIxvTy', 'service_tier': 'default', 'finish_reason': 'stop', 'logprobs': None}, id='run--b7b15e8c-a120-483c-a998-ddb02cb59796-0', usage_metadata={'input_tokens': 114, 'output_tokens': 22, 'total_tokens': 136, 'input_token_details': {'audio': 0, 'cache_read': 0}, 'output_token_details': {'audio': 0, 'reasoning': 0}})],\n",
              " 'structured_response': AgentResponse(weather_conditions='Sunny', temperature=68.0, address='San Francisco, CA')}"
            ]
          },
          "execution_count": 5,
          "metadata": {},
          "output_type": "execute_result"
        }
      ],
      "source": [
        "# Run the agent\n",
        "agent.invoke(\n",
        "    {\"messages\": [{\"role\": \"user\", \"content\": \"what is the weather in sf?\"}]},\n",
        "    context=ContextSchema(user_name=\"Ricardo Villanueva\"),\n",
        "    config={\"thread_id\": \"123\"}\n",
        ")"
      ]
    },
    {
      "cell_type": "code",
      "execution_count": 3,
      "metadata": {},
      "outputs": [
        {
          "data": {
            "text/plain": [
              "{'messages': [HumanMessage(content='what is the weather in sf?', additional_kwargs={}, response_metadata={}, id='8c81784c-cc07-4430-b07b-bbdcba77a31f'),\n",
              "  AIMessage(content='', additional_kwargs={'tool_calls': [{'id': 'call_LI9YWH12VF7UcziQR6fITTHU', 'function': {'arguments': '{\"city\":\"San Francisco\"}', 'name': 'get_weather'}, 'type': 'function'}], 'refusal': None}, response_metadata={'token_usage': {'completion_tokens': 15, 'prompt_tokens': 84, 'total_tokens': 99, 'completion_tokens_details': {'accepted_prediction_tokens': 0, 'audio_tokens': 0, 'reasoning_tokens': 0, 'rejected_prediction_tokens': 0}, 'prompt_tokens_details': {'audio_tokens': 0, 'cached_tokens': 0}}, 'model_name': 'gpt-4o-mini-2024-07-18', 'system_fingerprint': 'fp_34a54ae93c', 'id': 'chatcmpl-C3QLNFbLT9UGSdHU3vkXxsOizMdfW', 'service_tier': 'default', 'finish_reason': 'tool_calls', 'logprobs': None}, id='run--e03854cf-69dd-4fad-9fa4-da938f494271-0', tool_calls=[{'name': 'get_weather', 'args': {'city': 'San Francisco'}, 'id': 'call_LI9YWH12VF7UcziQR6fITTHU', 'type': 'tool_call'}], usage_metadata={'input_tokens': 84, 'output_tokens': 15, 'total_tokens': 99, 'input_token_details': {'audio': 0, 'cache_read': 0}, 'output_token_details': {'audio': 0, 'reasoning': 0}}),\n",
              "  ToolMessage(content=\"It's always sunny in San Francisco!\", name='get_weather', id='239afdc9-b20c-4827-be55-d88cb8c0aa42', tool_call_id='call_LI9YWH12VF7UcziQR6fITTHU'),\n",
              "  AIMessage(content='The weather in San Francisco is always sunny! If you need more specific details, feel free to ask.', additional_kwargs={'refusal': None}, response_metadata={'token_usage': {'completion_tokens': 22, 'prompt_tokens': 114, 'total_tokens': 136, 'completion_tokens_details': {'accepted_prediction_tokens': 0, 'audio_tokens': 0, 'reasoning_tokens': 0, 'rejected_prediction_tokens': 0}, 'prompt_tokens_details': {'audio_tokens': 0, 'cached_tokens': 0}}, 'model_name': 'gpt-4o-mini-2024-07-18', 'system_fingerprint': 'fp_34a54ae93c', 'id': 'chatcmpl-C3QLO6QkuM9s8GEwB1OlrBaoqOgx3', 'service_tier': 'default', 'finish_reason': 'stop', 'logprobs': None}, id='run--aaf9e8ff-d7e6-454a-819b-625372419869-0', usage_metadata={'input_tokens': 114, 'output_tokens': 22, 'total_tokens': 136, 'input_token_details': {'audio': 0, 'cache_read': 0}, 'output_token_details': {'audio': 0, 'reasoning': 0}}),\n",
              "  HumanMessage(content='Where does she live?', additional_kwargs={}, response_metadata={}, id='af59c0f9-9b85-4b7d-bd1b-f5bd3bb9279f'),\n",
              "  AIMessage(content='', additional_kwargs={'tool_calls': [{'id': 'call_mphXSJWi9ND7HJzGByfDj4dK', 'function': {'arguments': '{\"user\":\"Ricardo Villanueva\"}', 'name': 'get_address'}, 'type': 'function'}], 'refusal': None}, response_metadata={'token_usage': {'completion_tokens': 18, 'prompt_tokens': 148, 'total_tokens': 166, 'completion_tokens_details': {'accepted_prediction_tokens': 0, 'audio_tokens': 0, 'reasoning_tokens': 0, 'rejected_prediction_tokens': 0}, 'prompt_tokens_details': {'audio_tokens': 0, 'cached_tokens': 0}}, 'model_name': 'gpt-4o-mini-2024-07-18', 'system_fingerprint': 'fp_34a54ae93c', 'id': 'chatcmpl-C3QLQxodi9bx30d0gJLpSIoRZ5AQs', 'service_tier': 'default', 'finish_reason': 'tool_calls', 'logprobs': None}, id='run--e03737a4-d72d-4334-b172-bc243e3c6b45-0', tool_calls=[{'name': 'get_address', 'args': {'user': 'Ricardo Villanueva'}, 'id': 'call_mphXSJWi9ND7HJzGByfDj4dK', 'type': 'tool_call'}], usage_metadata={'input_tokens': 148, 'output_tokens': 18, 'total_tokens': 166, 'input_token_details': {'audio': 0, 'cache_read': 0}, 'output_token_details': {'audio': 0, 'reasoning': 0}}),\n",
              "  ToolMessage(content='Ricardo Villanueva lives at London, Elephant and Castle', name='get_address', id='2da2983e-aeb8-4609-a5f8-024d6a751ba6', tool_call_id='call_mphXSJWi9ND7HJzGByfDj4dK'),\n",
              "  AIMessage(content='You live at London, Elephant and Castle, Ricardo Villanueva. If you need any more information or assistance, just let me know!', additional_kwargs={'refusal': None}, response_metadata={'token_usage': {'completion_tokens': 29, 'prompt_tokens': 186, 'total_tokens': 215, 'completion_tokens_details': {'accepted_prediction_tokens': 0, 'audio_tokens': 0, 'reasoning_tokens': 0, 'rejected_prediction_tokens': 0}, 'prompt_tokens_details': {'audio_tokens': 0, 'cached_tokens': 0}}, 'model_name': 'gpt-4o-mini-2024-07-18', 'system_fingerprint': 'fp_34a54ae93c', 'id': 'chatcmpl-C3QLRtEMqwQ3vRgmwfxdMf15vCZwr', 'service_tier': 'default', 'finish_reason': 'stop', 'logprobs': None}, id='run--03529e15-3dfe-445f-b91a-e6cdcb37304d-0', usage_metadata={'input_tokens': 186, 'output_tokens': 29, 'total_tokens': 215, 'input_token_details': {'audio': 0, 'cache_read': 0}, 'output_token_details': {'audio': 0, 'reasoning': 0}})],\n",
              " 'structured_response': AgentResponse(weather_conditions='Sunny', temperature=68.0, address='London, Elephant and Castle')}"
            ]
          },
          "execution_count": 3,
          "metadata": {},
          "output_type": "execute_result"
        }
      ],
      "source": [
        "# Run the agent\n",
        "agent.invoke(\n",
        "    {\"messages\": [{\"role\": \"user\", \"content\": \"Where does she live?\"}]},\n",
        "    context=ContextSchema(user_name=\"Ricardo Villanueva\"),\n",
        "    config={\"thread_id\": \"123\"}\n",
        ")"
      ]
    },
    {
      "cell_type": "code",
      "execution_count": 4,
      "metadata": {},
      "outputs": [
        {
          "data": {
            "text/plain": [
              "{'messages': [HumanMessage(content='what is the weather in sf?', additional_kwargs={}, response_metadata={}, id='8c81784c-cc07-4430-b07b-bbdcba77a31f'),\n",
              "  AIMessage(content='', additional_kwargs={'tool_calls': [{'id': 'call_LI9YWH12VF7UcziQR6fITTHU', 'function': {'arguments': '{\"city\":\"San Francisco\"}', 'name': 'get_weather'}, 'type': 'function'}], 'refusal': None}, response_metadata={'token_usage': {'completion_tokens': 15, 'prompt_tokens': 84, 'total_tokens': 99, 'completion_tokens_details': {'accepted_prediction_tokens': 0, 'audio_tokens': 0, 'reasoning_tokens': 0, 'rejected_prediction_tokens': 0}, 'prompt_tokens_details': {'audio_tokens': 0, 'cached_tokens': 0}}, 'model_name': 'gpt-4o-mini-2024-07-18', 'system_fingerprint': 'fp_34a54ae93c', 'id': 'chatcmpl-C3QLNFbLT9UGSdHU3vkXxsOizMdfW', 'service_tier': 'default', 'finish_reason': 'tool_calls', 'logprobs': None}, id='run--e03854cf-69dd-4fad-9fa4-da938f494271-0', tool_calls=[{'name': 'get_weather', 'args': {'city': 'San Francisco'}, 'id': 'call_LI9YWH12VF7UcziQR6fITTHU', 'type': 'tool_call'}], usage_metadata={'input_tokens': 84, 'output_tokens': 15, 'total_tokens': 99, 'input_token_details': {'audio': 0, 'cache_read': 0}, 'output_token_details': {'audio': 0, 'reasoning': 0}}),\n",
              "  ToolMessage(content=\"It's always sunny in San Francisco!\", name='get_weather', id='239afdc9-b20c-4827-be55-d88cb8c0aa42', tool_call_id='call_LI9YWH12VF7UcziQR6fITTHU'),\n",
              "  AIMessage(content='The weather in San Francisco is always sunny! If you need more specific details, feel free to ask.', additional_kwargs={'refusal': None}, response_metadata={'token_usage': {'completion_tokens': 22, 'prompt_tokens': 114, 'total_tokens': 136, 'completion_tokens_details': {'accepted_prediction_tokens': 0, 'audio_tokens': 0, 'reasoning_tokens': 0, 'rejected_prediction_tokens': 0}, 'prompt_tokens_details': {'audio_tokens': 0, 'cached_tokens': 0}}, 'model_name': 'gpt-4o-mini-2024-07-18', 'system_fingerprint': 'fp_34a54ae93c', 'id': 'chatcmpl-C3QLO6QkuM9s8GEwB1OlrBaoqOgx3', 'service_tier': 'default', 'finish_reason': 'stop', 'logprobs': None}, id='run--aaf9e8ff-d7e6-454a-819b-625372419869-0', usage_metadata={'input_tokens': 114, 'output_tokens': 22, 'total_tokens': 136, 'input_token_details': {'audio': 0, 'cache_read': 0}, 'output_token_details': {'audio': 0, 'reasoning': 0}}),\n",
              "  HumanMessage(content='Where does she live?', additional_kwargs={}, response_metadata={}, id='af59c0f9-9b85-4b7d-bd1b-f5bd3bb9279f'),\n",
              "  AIMessage(content='', additional_kwargs={'tool_calls': [{'id': 'call_mphXSJWi9ND7HJzGByfDj4dK', 'function': {'arguments': '{\"user\":\"Ricardo Villanueva\"}', 'name': 'get_address'}, 'type': 'function'}], 'refusal': None}, response_metadata={'token_usage': {'completion_tokens': 18, 'prompt_tokens': 148, 'total_tokens': 166, 'completion_tokens_details': {'accepted_prediction_tokens': 0, 'audio_tokens': 0, 'reasoning_tokens': 0, 'rejected_prediction_tokens': 0}, 'prompt_tokens_details': {'audio_tokens': 0, 'cached_tokens': 0}}, 'model_name': 'gpt-4o-mini-2024-07-18', 'system_fingerprint': 'fp_34a54ae93c', 'id': 'chatcmpl-C3QLQxodi9bx30d0gJLpSIoRZ5AQs', 'service_tier': 'default', 'finish_reason': 'tool_calls', 'logprobs': None}, id='run--e03737a4-d72d-4334-b172-bc243e3c6b45-0', tool_calls=[{'name': 'get_address', 'args': {'user': 'Ricardo Villanueva'}, 'id': 'call_mphXSJWi9ND7HJzGByfDj4dK', 'type': 'tool_call'}], usage_metadata={'input_tokens': 148, 'output_tokens': 18, 'total_tokens': 166, 'input_token_details': {'audio': 0, 'cache_read': 0}, 'output_token_details': {'audio': 0, 'reasoning': 0}}),\n",
              "  ToolMessage(content='Ricardo Villanueva lives at London, Elephant and Castle', name='get_address', id='2da2983e-aeb8-4609-a5f8-024d6a751ba6', tool_call_id='call_mphXSJWi9ND7HJzGByfDj4dK'),\n",
              "  AIMessage(content='You live at London, Elephant and Castle, Ricardo Villanueva. If you need any more information or assistance, just let me know!', additional_kwargs={'refusal': None}, response_metadata={'token_usage': {'completion_tokens': 29, 'prompt_tokens': 186, 'total_tokens': 215, 'completion_tokens_details': {'accepted_prediction_tokens': 0, 'audio_tokens': 0, 'reasoning_tokens': 0, 'rejected_prediction_tokens': 0}, 'prompt_tokens_details': {'audio_tokens': 0, 'cached_tokens': 0}}, 'model_name': 'gpt-4o-mini-2024-07-18', 'system_fingerprint': 'fp_34a54ae93c', 'id': 'chatcmpl-C3QLRtEMqwQ3vRgmwfxdMf15vCZwr', 'service_tier': 'default', 'finish_reason': 'stop', 'logprobs': None}, id='run--03529e15-3dfe-445f-b91a-e6cdcb37304d-0', usage_metadata={'input_tokens': 186, 'output_tokens': 29, 'total_tokens': 215, 'input_token_details': {'audio': 0, 'cache_read': 0}, 'output_token_details': {'audio': 0, 'reasoning': 0}}),\n",
              "  HumanMessage(content='Where does she live, and is it raining there?', additional_kwargs={}, response_metadata={}, id='a493a0a7-0ee8-4ce7-add1-501f7d77d849'),\n",
              "  AIMessage(content='', additional_kwargs={'tool_calls': [{'id': 'call_MhwFJp6WPs9uyvj4cTdHQ1sJ', 'function': {'arguments': '{\"user\": \"Ricardo Villanueva\"}', 'name': 'get_address'}, 'type': 'function'}, {'id': 'call_nhv4Cxp6sZvzQr4nL0vgzuQl', 'function': {'arguments': '{\"city\": \"London\"}', 'name': 'get_weather'}, 'type': 'function'}], 'refusal': None}, response_metadata={'token_usage': {'completion_tokens': 48, 'prompt_tokens': 233, 'total_tokens': 281, 'completion_tokens_details': {'accepted_prediction_tokens': 0, 'audio_tokens': 0, 'reasoning_tokens': 0, 'rejected_prediction_tokens': 0}, 'prompt_tokens_details': {'audio_tokens': 0, 'cached_tokens': 0}}, 'model_name': 'gpt-4o-mini-2024-07-18', 'system_fingerprint': 'fp_34a54ae93c', 'id': 'chatcmpl-C3QLT9P9Qb0D8PzKOVSHkTNBUNxMP', 'service_tier': 'default', 'finish_reason': 'tool_calls', 'logprobs': None}, id='run--cbe5b0dc-6652-492b-8031-c28ca54997f5-0', tool_calls=[{'name': 'get_address', 'args': {'user': 'Ricardo Villanueva'}, 'id': 'call_MhwFJp6WPs9uyvj4cTdHQ1sJ', 'type': 'tool_call'}, {'name': 'get_weather', 'args': {'city': 'London'}, 'id': 'call_nhv4Cxp6sZvzQr4nL0vgzuQl', 'type': 'tool_call'}], usage_metadata={'input_tokens': 233, 'output_tokens': 48, 'total_tokens': 281, 'input_token_details': {'audio': 0, 'cache_read': 0}, 'output_token_details': {'audio': 0, 'reasoning': 0}}),\n",
              "  ToolMessage(content='Ricardo Villanueva lives at London, Elephant and Castle', name='get_address', id='1d5160ec-6a43-48f7-838f-5efb10f4db05', tool_call_id='call_MhwFJp6WPs9uyvj4cTdHQ1sJ'),\n",
              "  ToolMessage(content=\"It's always sunny in London!\", name='get_weather', id='fea2b20b-ce81-45a8-be48-e875ed788c2b', tool_call_id='call_nhv4Cxp6sZvzQr4nL0vgzuQl'),\n",
              "  AIMessage(content=\"You live at London, Elephant and Castle, Ricardo Villanueva, and it's always sunny in London! So, it is not raining there. If you have any other questions, feel free to ask!\", additional_kwargs={'refusal': None}, response_metadata={'token_usage': {'completion_tokens': 42, 'prompt_tokens': 313, 'total_tokens': 355, 'completion_tokens_details': {'accepted_prediction_tokens': 0, 'audio_tokens': 0, 'reasoning_tokens': 0, 'rejected_prediction_tokens': 0}, 'prompt_tokens_details': {'audio_tokens': 0, 'cached_tokens': 0}}, 'model_name': 'gpt-4o-mini-2024-07-18', 'system_fingerprint': 'fp_34a54ae93c', 'id': 'chatcmpl-C3QLVf1PBcQfaZ1tnJiY9Hx5t9bT6', 'service_tier': 'default', 'finish_reason': 'stop', 'logprobs': None}, id='run--4a525699-4cfa-4ce4-8de3-a85676aee741-0', usage_metadata={'input_tokens': 313, 'output_tokens': 42, 'total_tokens': 355, 'input_token_details': {'audio': 0, 'cache_read': 0}, 'output_token_details': {'audio': 0, 'reasoning': 0}})],\n",
              " 'structured_response': AgentResponse(weather_conditions=\"It's always sunny in London!\", temperature=20.0, address='London, Elephant and Castle')}"
            ]
          },
          "execution_count": 4,
          "metadata": {},
          "output_type": "execute_result"
        }
      ],
      "source": [
        "# Run the agent\n",
        "agent.invoke(\n",
        "    {\"messages\": [{\"role\": \"user\", \"content\": \"Where does she live, and is it raining there?\"}]},\n",
        "    context=ContextSchema(user_name=\"Ricardo Villanueva\"),\n",
        "    config={\"thread_id\": \"123\"}\n",
        ")"
      ]
    },
    {
      "cell_type": "code",
      "execution_count": 5,
      "metadata": {},
      "outputs": [
        {
          "data": {
            "text/plain": [
              "{'messages': [HumanMessage(content='what is the weather in sf?', additional_kwargs={}, response_metadata={}, id='8c81784c-cc07-4430-b07b-bbdcba77a31f'),\n",
              "  AIMessage(content='', additional_kwargs={'tool_calls': [{'id': 'call_LI9YWH12VF7UcziQR6fITTHU', 'function': {'arguments': '{\"city\":\"San Francisco\"}', 'name': 'get_weather'}, 'type': 'function'}], 'refusal': None}, response_metadata={'token_usage': {'completion_tokens': 15, 'prompt_tokens': 84, 'total_tokens': 99, 'completion_tokens_details': {'accepted_prediction_tokens': 0, 'audio_tokens': 0, 'reasoning_tokens': 0, 'rejected_prediction_tokens': 0}, 'prompt_tokens_details': {'audio_tokens': 0, 'cached_tokens': 0}}, 'model_name': 'gpt-4o-mini-2024-07-18', 'system_fingerprint': 'fp_34a54ae93c', 'id': 'chatcmpl-C3QLNFbLT9UGSdHU3vkXxsOizMdfW', 'service_tier': 'default', 'finish_reason': 'tool_calls', 'logprobs': None}, id='run--e03854cf-69dd-4fad-9fa4-da938f494271-0', tool_calls=[{'name': 'get_weather', 'args': {'city': 'San Francisco'}, 'id': 'call_LI9YWH12VF7UcziQR6fITTHU', 'type': 'tool_call'}], usage_metadata={'input_tokens': 84, 'output_tokens': 15, 'total_tokens': 99, 'input_token_details': {'audio': 0, 'cache_read': 0}, 'output_token_details': {'audio': 0, 'reasoning': 0}}),\n",
              "  ToolMessage(content=\"It's always sunny in San Francisco!\", name='get_weather', id='239afdc9-b20c-4827-be55-d88cb8c0aa42', tool_call_id='call_LI9YWH12VF7UcziQR6fITTHU'),\n",
              "  AIMessage(content='The weather in San Francisco is always sunny! If you need more specific details, feel free to ask.', additional_kwargs={'refusal': None}, response_metadata={'token_usage': {'completion_tokens': 22, 'prompt_tokens': 114, 'total_tokens': 136, 'completion_tokens_details': {'accepted_prediction_tokens': 0, 'audio_tokens': 0, 'reasoning_tokens': 0, 'rejected_prediction_tokens': 0}, 'prompt_tokens_details': {'audio_tokens': 0, 'cached_tokens': 0}}, 'model_name': 'gpt-4o-mini-2024-07-18', 'system_fingerprint': 'fp_34a54ae93c', 'id': 'chatcmpl-C3QLO6QkuM9s8GEwB1OlrBaoqOgx3', 'service_tier': 'default', 'finish_reason': 'stop', 'logprobs': None}, id='run--aaf9e8ff-d7e6-454a-819b-625372419869-0', usage_metadata={'input_tokens': 114, 'output_tokens': 22, 'total_tokens': 136, 'input_token_details': {'audio': 0, 'cache_read': 0}, 'output_token_details': {'audio': 0, 'reasoning': 0}}),\n",
              "  HumanMessage(content='Where does she live?', additional_kwargs={}, response_metadata={}, id='af59c0f9-9b85-4b7d-bd1b-f5bd3bb9279f'),\n",
              "  AIMessage(content='', additional_kwargs={'tool_calls': [{'id': 'call_mphXSJWi9ND7HJzGByfDj4dK', 'function': {'arguments': '{\"user\":\"Ricardo Villanueva\"}', 'name': 'get_address'}, 'type': 'function'}], 'refusal': None}, response_metadata={'token_usage': {'completion_tokens': 18, 'prompt_tokens': 148, 'total_tokens': 166, 'completion_tokens_details': {'accepted_prediction_tokens': 0, 'audio_tokens': 0, 'reasoning_tokens': 0, 'rejected_prediction_tokens': 0}, 'prompt_tokens_details': {'audio_tokens': 0, 'cached_tokens': 0}}, 'model_name': 'gpt-4o-mini-2024-07-18', 'system_fingerprint': 'fp_34a54ae93c', 'id': 'chatcmpl-C3QLQxodi9bx30d0gJLpSIoRZ5AQs', 'service_tier': 'default', 'finish_reason': 'tool_calls', 'logprobs': None}, id='run--e03737a4-d72d-4334-b172-bc243e3c6b45-0', tool_calls=[{'name': 'get_address', 'args': {'user': 'Ricardo Villanueva'}, 'id': 'call_mphXSJWi9ND7HJzGByfDj4dK', 'type': 'tool_call'}], usage_metadata={'input_tokens': 148, 'output_tokens': 18, 'total_tokens': 166, 'input_token_details': {'audio': 0, 'cache_read': 0}, 'output_token_details': {'audio': 0, 'reasoning': 0}}),\n",
              "  ToolMessage(content='Ricardo Villanueva lives at London, Elephant and Castle', name='get_address', id='2da2983e-aeb8-4609-a5f8-024d6a751ba6', tool_call_id='call_mphXSJWi9ND7HJzGByfDj4dK'),\n",
              "  AIMessage(content='You live at London, Elephant and Castle, Ricardo Villanueva. If you need any more information or assistance, just let me know!', additional_kwargs={'refusal': None}, response_metadata={'token_usage': {'completion_tokens': 29, 'prompt_tokens': 186, 'total_tokens': 215, 'completion_tokens_details': {'accepted_prediction_tokens': 0, 'audio_tokens': 0, 'reasoning_tokens': 0, 'rejected_prediction_tokens': 0}, 'prompt_tokens_details': {'audio_tokens': 0, 'cached_tokens': 0}}, 'model_name': 'gpt-4o-mini-2024-07-18', 'system_fingerprint': 'fp_34a54ae93c', 'id': 'chatcmpl-C3QLRtEMqwQ3vRgmwfxdMf15vCZwr', 'service_tier': 'default', 'finish_reason': 'stop', 'logprobs': None}, id='run--03529e15-3dfe-445f-b91a-e6cdcb37304d-0', usage_metadata={'input_tokens': 186, 'output_tokens': 29, 'total_tokens': 215, 'input_token_details': {'audio': 0, 'cache_read': 0}, 'output_token_details': {'audio': 0, 'reasoning': 0}}),\n",
              "  HumanMessage(content='Where does she live, and is it raining there?', additional_kwargs={}, response_metadata={}, id='a493a0a7-0ee8-4ce7-add1-501f7d77d849'),\n",
              "  AIMessage(content='', additional_kwargs={'tool_calls': [{'id': 'call_MhwFJp6WPs9uyvj4cTdHQ1sJ', 'function': {'arguments': '{\"user\": \"Ricardo Villanueva\"}', 'name': 'get_address'}, 'type': 'function'}, {'id': 'call_nhv4Cxp6sZvzQr4nL0vgzuQl', 'function': {'arguments': '{\"city\": \"London\"}', 'name': 'get_weather'}, 'type': 'function'}], 'refusal': None}, response_metadata={'token_usage': {'completion_tokens': 48, 'prompt_tokens': 233, 'total_tokens': 281, 'completion_tokens_details': {'accepted_prediction_tokens': 0, 'audio_tokens': 0, 'reasoning_tokens': 0, 'rejected_prediction_tokens': 0}, 'prompt_tokens_details': {'audio_tokens': 0, 'cached_tokens': 0}}, 'model_name': 'gpt-4o-mini-2024-07-18', 'system_fingerprint': 'fp_34a54ae93c', 'id': 'chatcmpl-C3QLT9P9Qb0D8PzKOVSHkTNBUNxMP', 'service_tier': 'default', 'finish_reason': 'tool_calls', 'logprobs': None}, id='run--cbe5b0dc-6652-492b-8031-c28ca54997f5-0', tool_calls=[{'name': 'get_address', 'args': {'user': 'Ricardo Villanueva'}, 'id': 'call_MhwFJp6WPs9uyvj4cTdHQ1sJ', 'type': 'tool_call'}, {'name': 'get_weather', 'args': {'city': 'London'}, 'id': 'call_nhv4Cxp6sZvzQr4nL0vgzuQl', 'type': 'tool_call'}], usage_metadata={'input_tokens': 233, 'output_tokens': 48, 'total_tokens': 281, 'input_token_details': {'audio': 0, 'cache_read': 0}, 'output_token_details': {'audio': 0, 'reasoning': 0}}),\n",
              "  ToolMessage(content='Ricardo Villanueva lives at London, Elephant and Castle', name='get_address', id='1d5160ec-6a43-48f7-838f-5efb10f4db05', tool_call_id='call_MhwFJp6WPs9uyvj4cTdHQ1sJ'),\n",
              "  ToolMessage(content=\"It's always sunny in London!\", name='get_weather', id='fea2b20b-ce81-45a8-be48-e875ed788c2b', tool_call_id='call_nhv4Cxp6sZvzQr4nL0vgzuQl'),\n",
              "  AIMessage(content=\"You live at London, Elephant and Castle, Ricardo Villanueva, and it's always sunny in London! So, it is not raining there. If you have any other questions, feel free to ask!\", additional_kwargs={'refusal': None}, response_metadata={'token_usage': {'completion_tokens': 42, 'prompt_tokens': 313, 'total_tokens': 355, 'completion_tokens_details': {'accepted_prediction_tokens': 0, 'audio_tokens': 0, 'reasoning_tokens': 0, 'rejected_prediction_tokens': 0}, 'prompt_tokens_details': {'audio_tokens': 0, 'cached_tokens': 0}}, 'model_name': 'gpt-4o-mini-2024-07-18', 'system_fingerprint': 'fp_34a54ae93c', 'id': 'chatcmpl-C3QLVf1PBcQfaZ1tnJiY9Hx5t9bT6', 'service_tier': 'default', 'finish_reason': 'stop', 'logprobs': None}, id='run--4a525699-4cfa-4ce4-8de3-a85676aee741-0', usage_metadata={'input_tokens': 313, 'output_tokens': 42, 'total_tokens': 355, 'input_token_details': {'audio': 0, 'cache_read': 0}, 'output_token_details': {'audio': 0, 'reasoning': 0}}),\n",
              "  HumanMessage(content='What did I say?', additional_kwargs={}, response_metadata={}, id='5a42e3f1-7e5c-46b6-85d9-9b07be89d798'),\n",
              "  AIMessage(content='You asked about where \"she\" lives and whether it is raining there. If you meant someone specific, please clarify, and I\\'ll do my best to assist you!', additional_kwargs={'refusal': None}, response_metadata={'token_usage': {'completion_tokens': 34, 'prompt_tokens': 367, 'total_tokens': 401, 'completion_tokens_details': {'accepted_prediction_tokens': 0, 'audio_tokens': 0, 'reasoning_tokens': 0, 'rejected_prediction_tokens': 0}, 'prompt_tokens_details': {'audio_tokens': 0, 'cached_tokens': 0}}, 'model_name': 'gpt-4o-mini-2024-07-18', 'system_fingerprint': 'fp_34a54ae93c', 'id': 'chatcmpl-C3QLX41FvJybDr2IoPSZ0zYSuIB9W', 'service_tier': 'default', 'finish_reason': 'stop', 'logprobs': None}, id='run--ea33492b-4270-4c16-a0d4-4fce4bea997d-0', usage_metadata={'input_tokens': 367, 'output_tokens': 34, 'total_tokens': 401, 'input_token_details': {'audio': 0, 'cache_read': 0}, 'output_token_details': {'audio': 0, 'reasoning': 0}})],\n",
              " 'structured_response': AgentResponse(weather_conditions=\"It's always sunny in London!\", temperature=20.0, address='London, Elephant and Castle')}"
            ]
          },
          "execution_count": 5,
          "metadata": {},
          "output_type": "execute_result"
        }
      ],
      "source": [
        "# Run the agent\n",
        "agent.invoke(\n",
        "    {\"messages\": [{\"role\": \"user\", \"content\": \"What did I say?\"}]},\n",
        "    context=ContextSchema(user_name=\"Ricardo Villanueva\"),\n",
        "    config={\"thread_id\": \"123\"}\n",
        ")"
      ]
    },
    {
      "cell_type": "code",
      "execution_count": 1,
      "metadata": {},
      "outputs": [
        {
          "name": "stderr",
          "output_type": "stream",
          "text": [
            "/Users/ricardo.villanueva/miniconda3/envs/ai-agent-with-mongodb/lib/python3.13/site-packages/pymongo/common.py:844: UserWarning: Wire protocol compression with snappy is not available. You must install the python-snappy module for snappy support.\n",
            "  value = validator(option, value)\n"
          ]
        },
        {
          "data": {
            "text/plain": [
              "{'messages': [HumanMessage(content='What is the weather in London?', additional_kwargs={}, response_metadata={}, id='629f5486-601a-47c1-b98c-af137b6b8873'),\n",
              "  AIMessage(content='', additional_kwargs={'tool_calls': [{'id': 'call_lh33xC0RUtO5emzjzY03AZxR', 'function': {'arguments': '{\"city\":\"London\"}', 'name': 'get_weather'}, 'type': 'function'}], 'refusal': None}, response_metadata={'token_usage': {'completion_tokens': 23, 'prompt_tokens': 165, 'total_tokens': 188, 'completion_tokens_details': {'accepted_prediction_tokens': 0, 'audio_tokens': 0, 'reasoning_tokens': 0, 'rejected_prediction_tokens': 0}, 'prompt_tokens_details': {'audio_tokens': 0, 'cached_tokens': 0}}, 'model_name': 'gpt-5-mini-2025-08-07', 'system_fingerprint': None, 'id': 'chatcmpl-C3QV2IcA6E4qQ9QR2UU3eSAkVFRWY', 'service_tier': 'default', 'finish_reason': 'tool_calls', 'logprobs': None}, id='run--17fcee91-a53a-4278-82c8-4aea49b53d7e-0', tool_calls=[{'name': 'get_weather', 'args': {'city': 'London'}, 'id': 'call_lh33xC0RUtO5emzjzY03AZxR', 'type': 'tool_call'}], usage_metadata={'input_tokens': 165, 'output_tokens': 23, 'total_tokens': 188, 'input_token_details': {'audio': 0, 'cache_read': 0}, 'output_token_details': {'audio': 0, 'reasoning': 0}}),\n",
              "  ToolMessage(content=\"It's always sunny in London!\", name='get_weather', id='0109e779-1013-4e95-870c-bfceaa17b644', tool_call_id='call_lh33xC0RUtO5emzjzY03AZxR'),\n",
              "  AIMessage(content='John — According to the weather service: \"It\\'s always sunny in London!\" \\n\\nWould you like current temperature, an hourly forecast, or the outlook for a specific day?', additional_kwargs={'refusal': None}, response_metadata={'token_usage': {'completion_tokens': 171, 'prompt_tokens': 199, 'total_tokens': 370, 'completion_tokens_details': {'accepted_prediction_tokens': 0, 'audio_tokens': 0, 'reasoning_tokens': 128, 'rejected_prediction_tokens': 0}, 'prompt_tokens_details': {'audio_tokens': 0, 'cached_tokens': 0}}, 'model_name': 'gpt-5-mini-2025-08-07', 'system_fingerprint': None, 'id': 'chatcmpl-C3QV4sYm4xQykuH5yxGP64rvoEAlV', 'service_tier': 'default', 'finish_reason': 'stop', 'logprobs': None}, id='run--1e7cc0f0-dfe3-414b-b52c-95d07fb792c1-0', usage_metadata={'input_tokens': 199, 'output_tokens': 171, 'total_tokens': 370, 'input_token_details': {'audio': 0, 'cache_read': 0}, 'output_token_details': {'audio': 0, 'reasoning': 128}})],\n",
              " 'structured_response': AgentResponse(weather_conditions=\"It's always sunny in London! (temperature not provided by the service)\", temperature=0.0, address='London')}"
            ]
          },
          "execution_count": 1,
          "metadata": {},
          "output_type": "execute_result"
        }
      ],
      "source": [
        "\n",
        "from src.examples.agent_with_mongodb_memory import invoke_agent\n",
        "\n",
        "invoke_agent(\"What is the weather in London?\", \"John\", \"123\")"
      ]
    },
    {
      "cell_type": "code",
      "execution_count": 7,
      "metadata": {},
      "outputs": [
        {
          "data": {
            "text/plain": [
              "{'messages': [HumanMessage(content='What is the weather in London?', additional_kwargs={}, response_metadata={}, id='520441fc-686a-4f11-92ee-6cf967f82f9a'),\n",
              "  AIMessage(content='', additional_kwargs={'tool_calls': [{'id': 'call_8fMmUCb0u3kDIfkEJfJKlaYb', 'function': {'arguments': '{\"city\":\"London\"}', 'name': 'get_weather'}, 'type': 'function'}], 'refusal': None}, response_metadata={'token_usage': {'completion_tokens': 23, 'prompt_tokens': 165, 'total_tokens': 188, 'completion_tokens_details': {'accepted_prediction_tokens': 0, 'audio_tokens': 0, 'reasoning_tokens': 0, 'rejected_prediction_tokens': 0}, 'prompt_tokens_details': {'audio_tokens': 0, 'cached_tokens': 0}}, 'model_name': 'gpt-5-mini-2025-08-07', 'system_fingerprint': None, 'id': 'chatcmpl-C3QZShExu4mqV3JR5ZgRiTtoIpC3A', 'service_tier': 'default', 'finish_reason': 'tool_calls', 'logprobs': None}, id='run--c3e26db6-0aa0-4728-928b-7d12dd781195-0', tool_calls=[{'name': 'get_weather', 'args': {'city': 'London'}, 'id': 'call_8fMmUCb0u3kDIfkEJfJKlaYb', 'type': 'tool_call'}], usage_metadata={'input_tokens': 165, 'output_tokens': 23, 'total_tokens': 188, 'input_token_details': {'audio': 0, 'cache_read': 0}, 'output_token_details': {'audio': 0, 'reasoning': 0}}),\n",
              "  ToolMessage(content=\"It's always sunny in London!\", name='get_weather', id='691d13e9-c31f-4c89-8769-5e900ecbb51d', tool_call_id='call_8fMmUCb0u3kDIfkEJfJKlaYb'),\n",
              "  AIMessage(content=\"John — it's always sunny in London! \\n\\nWould you like more details (current temperature, hourly forecast, or a multi-day forecast)?\", additional_kwargs={'refusal': None}, response_metadata={'token_usage': {'completion_tokens': 164, 'prompt_tokens': 199, 'total_tokens': 363, 'completion_tokens_details': {'accepted_prediction_tokens': 0, 'audio_tokens': 0, 'reasoning_tokens': 128, 'rejected_prediction_tokens': 0}, 'prompt_tokens_details': {'audio_tokens': 0, 'cached_tokens': 0}}, 'model_name': 'gpt-5-mini-2025-08-07', 'system_fingerprint': None, 'id': 'chatcmpl-C3QZVFGicVcmmNmfmq2xhj541HP6u', 'service_tier': 'default', 'finish_reason': 'stop', 'logprobs': None}, id='run--3b53aefb-e228-45e0-a0ee-c6af343bebeb-0', usage_metadata={'input_tokens': 199, 'output_tokens': 164, 'total_tokens': 363, 'input_token_details': {'audio': 0, 'cache_read': 0}, 'output_token_details': {'audio': 0, 'reasoning': 128}})],\n",
              " 'structured_response': AgentResponse(weather_conditions='Sunny', temperature=20.0, address='London, UK')}"
            ]
          },
          "execution_count": 7,
          "metadata": {},
          "output_type": "execute_result"
        }
      ],
      "source": [
        "\n",
        "from src.examples.agent_with_mongodb_memory import invoke_agent\n",
        "\n",
        "invoke_agent(\"What is the weather in London?\", \"John\", \"123\")"
      ]
    }
  ],
  "metadata": {
    "kernelspec": {
      "display_name": "ai-agent-with-mongodb",
      "language": "python",
      "name": "python3"
    },
    "language_info": {
      "codemirror_mode": {
        "name": "ipython",
        "version": 3
      },
      "file_extension": ".py",
      "mimetype": "text/x-python",
      "name": "python",
      "nbconvert_exporter": "python",
      "pygments_lexer": "ipython3",
      "version": "3.13.5"
    },
    "widgets": {
      "application/vnd.jupyter.widget-state+json": {
        "state": {}
      }
    }
  },
  "nbformat": 4,
  "nbformat_minor": 2
}
